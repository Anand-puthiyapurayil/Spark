{
 "cells": [
  {
   "cell_type": "code",
   "execution_count": 207,
   "id": "b9789d66",
   "metadata": {},
   "outputs": [
    {
     "name": "stderr",
     "output_type": "stream",
     "text": [
      "UsageError: unrecognized arguments: # To plot graphs inline the notebook\n"
     ]
    }
   ],
   "source": [
    "from pyspark import SparkContext                                    # Importing SparkContext\n",
    "from pyspark.sql import SparkSession, Window, Row                   # Importing importing methods for creating a cluster\n",
    "from pyspark.sql import functions as F                              # Importing SQL Functions\n",
    "from pyspark.sql.functions import col, isnan, when, count           # Importing relevant dataframe functions\n",
    "from pyspark.sql.functions import *                                 # Importing inbuilt SQL Functions\n",
    "from pyspark.sql.types import *                                     # Importing SQL types\n",
    "#-------------------------------------------------------------------------------------------------------------------------------\n",
    "import matplotlib.pyplot as plt                                     # Popular plotting library\n",
    "%matplotlib inline                                                  # To plot graphs inline the notebook\n",
    "import seaborn as sns                                               # Advanced plotting library\n",
    "from handyspark import *                                            # Helper library to plot graphs\n",
    "#-------------------------------------------------------------------------------------------------------------------------------\n",
    "from pyspark.ml.feature import VectorAssembler                      # For processing dataset for ML\n",
    "#-------------------------------------------------------------------------------------------------------------------------------\n",
    "import warnings                                                     # Importing warning to disable runtime warnings\n",
    "warnings.filterwarnings(\"ignore\")                                   # Warnings will appear only once"
   ]
  },
  {
   "cell_type": "code",
   "execution_count": 208,
   "id": "1a1cd3ce",
   "metadata": {},
   "outputs": [
    {
     "data": {
      "text/html": [
       "\n",
       "            <div>\n",
       "                <p><b>SparkSession - in-memory</b></p>\n",
       "                \n",
       "        <div>\n",
       "            <p><b>SparkContext</b></p>\n",
       "\n",
       "            <p><a href=\"http://LAPTOP-D5HCFPRU:4041\">Spark UI</a></p>\n",
       "\n",
       "            <dl>\n",
       "              <dt>Version</dt>\n",
       "                <dd><code>v3.2.1</code></dd>\n",
       "              <dt>Master</dt>\n",
       "                <dd><code>local[*]</code></dd>\n",
       "              <dt>AppName</dt>\n",
       "                <dd><code>carsSpark</code></dd>\n",
       "            </dl>\n",
       "        </div>\n",
       "        \n",
       "            </div>\n",
       "        "
      ],
      "text/plain": [
       "<pyspark.sql.session.SparkSession at 0x286d2d3d240>"
      ]
     },
     "execution_count": 208,
     "metadata": {},
     "output_type": "execute_result"
    }
   ],
   "source": [
    "# Building a spark app/session\n",
    "spark = SparkSession.builder.appName(\"carsSpark\").getOrCreate()\n",
    "\n",
    "# single cluster information\n",
    "spark"
   ]
  },
  {
   "cell_type": "code",
   "execution_count": 209,
   "id": "1b1989a1",
   "metadata": {},
   "outputs": [
    {
     "name": "stdout",
     "output_type": "stream",
     "text": [
      "Shape of the dataset:  (301, 9)\n",
      "+-------------+----+-------------+-------------+----------+---------+-----------+------------+-----+\n",
      "|     Car_Name|Year|Selling_Price|Present_Price|Kms_Driven|Fuel_Type|Seller_Type|Transmission|Owner|\n",
      "+-------------+----+-------------+-------------+----------+---------+-----------+------------+-----+\n",
      "|         ritz|2014|         3.35|         5.59|     27000|   Petrol|     Dealer|      Manual|    0|\n",
      "|          sx4|2013|         4.75|         9.54|     43000|   Diesel|     Dealer|      Manual|    0|\n",
      "|         ciaz|2017|         7.25|         9.85|      6900|   Petrol|     Dealer|      Manual|    0|\n",
      "|      wagon r|2011|         2.85|         4.15|      5200|   Petrol|     Dealer|      Manual|    0|\n",
      "|        swift|2014|          4.6|         6.87|     42450|   Diesel|     Dealer|      Manual|    0|\n",
      "|vitara brezza|2018|         9.25|         9.83|      2071|   Diesel|     Dealer|      Manual|    0|\n",
      "|         ciaz|2015|         6.75|         8.12|     18796|   Petrol|     Dealer|      Manual|    0|\n",
      "|      s cross|2015|          6.5|         8.61|     33429|   Diesel|     Dealer|      Manual|    0|\n",
      "|         ciaz|2016|         8.75|         8.89|     20273|   Diesel|     Dealer|      Manual|    0|\n",
      "|         ciaz|2015|         7.45|         8.92|     42367|   Diesel|     Dealer|      Manual|    0|\n",
      "|     alto 800|2017|         2.85|          3.6|      2135|   Petrol|     Dealer|      Manual|    0|\n",
      "|         ciaz|2015|         6.85|        10.38|     51000|   Diesel|     Dealer|      Manual|    0|\n",
      "|         ciaz|2015|          7.5|         9.94|     15000|   Petrol|     Dealer|   Automatic|    0|\n",
      "|       ertiga|2015|          6.1|         7.71|     26000|   Petrol|     Dealer|      Manual|    0|\n",
      "|        dzire|2009|         2.25|         7.21|     77427|   Petrol|     Dealer|      Manual|    0|\n",
      "|       ertiga|2016|         7.75|        10.79|     43000|   Diesel|     Dealer|      Manual|    0|\n",
      "|       ertiga|2015|         7.25|        10.79|     41678|   Diesel|     Dealer|      Manual|    0|\n",
      "|       ertiga|2016|         7.75|        10.79|     43000|   Diesel|     Dealer|      Manual|    0|\n",
      "|      wagon r|2015|         3.25|         5.09|     35500|      CNG|     Dealer|      Manual|    0|\n",
      "|          sx4|2010|         2.65|         7.98|     41442|   Petrol|     Dealer|      Manual|    0|\n",
      "+-------------+----+-------------+-------------+----------+---------+-----------+------------+-----+\n",
      "only showing top 20 rows\n",
      "\n"
     ]
    }
   ],
   "source": [
    "# Reading the data\n",
    "df = spark.read.csv('car data.csv', header=True, inferSchema=\"true\")\n",
    "\n",
    "# Shape of the dataset\n",
    "print('Shape of the dataset: ', (df.count(), len(df.columns)))\n",
    "\n",
    "# Displaying top n=10 rows\n",
    "df.show()"
   ]
  },
  {
   "cell_type": "code",
   "execution_count": 210,
   "id": "02629cd6",
   "metadata": {},
   "outputs": [
    {
     "name": "stdout",
     "output_type": "stream",
     "text": [
      "+-------+--------+------------------+-----------------+-----------------+-----------------+---------+-----------+------------+-------------------+\n",
      "|summary|Car_Name|              Year|    Selling_Price|    Present_Price|       Kms_Driven|Fuel_Type|Seller_Type|Transmission|              Owner|\n",
      "+-------+--------+------------------+-----------------+-----------------+-----------------+---------+-----------+------------+-------------------+\n",
      "|  count|     301|               301|              301|              301|              301|      301|        301|         301|                301|\n",
      "|   mean|   800.0|2013.6279069767443|4.661295681063127|7.628471760797344|36947.20598006644|     null|       null|        null|0.04318936877076412|\n",
      "| stddev|    null|2.8915541273367253|5.082811556177805|8.644115402015789|38886.88388206789|     null|       null|        null| 0.2479148926949198|\n",
      "|    min|     800|              2003|              0.1|             0.32|              500|      CNG|     Dealer|   Automatic|                  0|\n",
      "|    max|   xcent|              2018|             35.0|             92.6|           500000|   Petrol| Individual|      Manual|                  3|\n",
      "+-------+--------+------------------+-----------------+-----------------+-----------------+---------+-----------+------------+-------------------+\n",
      "\n"
     ]
    }
   ],
   "source": [
    "# Getting a description of the dataset\n",
    "df.describe().show()"
   ]
  },
  {
   "cell_type": "code",
   "execution_count": 211,
   "id": "f3ab626f",
   "metadata": {},
   "outputs": [
    {
     "name": "stdout",
     "output_type": "stream",
     "text": [
      "root\n",
      " |-- Car_Name: string (nullable = true)\n",
      " |-- Year: integer (nullable = true)\n",
      " |-- Selling_Price: double (nullable = true)\n",
      " |-- Present_Price: double (nullable = true)\n",
      " |-- Kms_Driven: integer (nullable = true)\n",
      " |-- Fuel_Type: string (nullable = true)\n",
      " |-- Seller_Type: string (nullable = true)\n",
      " |-- Transmission: string (nullable = true)\n",
      " |-- Owner: integer (nullable = true)\n",
      "\n"
     ]
    }
   ],
   "source": [
    "# Checking for dataframe schema\n",
    "df.printSchema()  "
   ]
  },
  {
   "cell_type": "code",
   "execution_count": 212,
   "id": "74532308",
   "metadata": {},
   "outputs": [
    {
     "name": "stdout",
     "output_type": "stream",
     "text": [
      "+-------------+-------------+\n",
      "|Selling_Price|Present_Price|\n",
      "+-------------+-------------+\n",
      "|         3.35|         5.59|\n",
      "|         4.75|         9.54|\n",
      "|         7.25|         9.85|\n",
      "|         2.85|         4.15|\n",
      "|          4.6|         6.87|\n",
      "|         9.25|         9.83|\n",
      "|         6.75|         8.12|\n",
      "|          6.5|         8.61|\n",
      "|         8.75|         8.89|\n",
      "|         7.45|         8.92|\n",
      "|         2.85|          3.6|\n",
      "|         6.85|        10.38|\n",
      "|          7.5|         9.94|\n",
      "|          6.1|         7.71|\n",
      "|         2.25|         7.21|\n",
      "|         7.75|        10.79|\n",
      "|         7.25|        10.79|\n",
      "|         7.75|        10.79|\n",
      "|         3.25|         5.09|\n",
      "|         2.65|         7.98|\n",
      "+-------------+-------------+\n",
      "only showing top 20 rows\n",
      "\n"
     ]
    }
   ],
   "source": [
    "# Selecting multiple columns\n",
    "df.select(['Selling_Price','Present_Price']).show()"
   ]
  },
  {
   "cell_type": "code",
   "execution_count": 213,
   "id": "849a2222",
   "metadata": {},
   "outputs": [
    {
     "data": {
      "text/plain": [
       "[('Car_Name', 'string'),\n",
       " ('Year', 'int'),\n",
       " ('Selling_Price', 'double'),\n",
       " ('Present_Price', 'double'),\n",
       " ('Kms_Driven', 'int'),\n",
       " ('Fuel_Type', 'string'),\n",
       " ('Seller_Type', 'string'),\n",
       " ('Transmission', 'string'),\n",
       " ('Owner', 'int')]"
      ]
     },
     "execution_count": 213,
     "metadata": {},
     "output_type": "execute_result"
    }
   ],
   "source": [
    "df.dtypes\n"
   ]
  },
  {
   "cell_type": "markdown",
   "id": "01aa29ec",
   "metadata": {},
   "source": [
    "# EDA"
   ]
  },
  {
   "cell_type": "code",
   "execution_count": 214,
   "id": "0eefc33f",
   "metadata": {},
   "outputs": [
    {
     "name": "stdout",
     "output_type": "stream",
     "text": [
      "+--------+----+-------------+-------------+----------+---------+-----------+------------+-----+\n",
      "|Car_Name|Year|Selling_Price|Present_Price|Kms_Driven|Fuel_Type|Seller_Type|Transmission|Owner|\n",
      "+--------+----+-------------+-------------+----------+---------+-----------+------------+-----+\n",
      "|       0|   0|            0|            0|         0|        0|          0|           0|    0|\n",
      "+--------+----+-------------+-------------+----------+---------+-----------+------------+-----+\n",
      "\n"
     ]
    }
   ],
   "source": [
    "# Creating a dataframe to check null value counts\n",
    "null_df = df.select([count(when(col(c).contains('None') | \\\n",
    "                            col(c).contains('NULL') | \\\n",
    "                            (col(c) == '') | \\\n",
    "                            col(c).isNull() | \\\n",
    "                            isnan(c), c \n",
    "                           )).alias(c)\n",
    "                    for c in df.columns])\n",
    "\n",
    "# Displaying the null value counts dataframe\n",
    "null_df.show()"
   ]
  },
  {
   "cell_type": "code",
   "execution_count": 215,
   "id": "90600e7b",
   "metadata": {},
   "outputs": [
    {
     "name": "stdout",
     "output_type": "stream",
     "text": [
      "+-------------+----+-------------+-------------+----------+---------+-----------+------------+-----+\n",
      "|     Car_Name|Year|Selling_Price|Present_Price|Kms_Driven|Fuel_Type|Seller_Type|Transmission|Owner|\n",
      "+-------------+----+-------------+-------------+----------+---------+-----------+------------+-----+\n",
      "|         ritz|2014|         3.35|         5.59|     27000|   Petrol|     Dealer|      Manual|    0|\n",
      "|          sx4|2013|         4.75|         9.54|     43000|   Diesel|     Dealer|      Manual|    0|\n",
      "|         ciaz|2017|         7.25|         9.85|      6900|   Petrol|     Dealer|      Manual|    0|\n",
      "|      wagon r|2011|         2.85|         4.15|      5200|   Petrol|     Dealer|      Manual|    0|\n",
      "|        swift|2014|          4.6|         6.87|     42450|   Diesel|     Dealer|      Manual|    0|\n",
      "|vitara brezza|2018|         9.25|         9.83|      2071|   Diesel|     Dealer|      Manual|    0|\n",
      "|         ciaz|2015|         6.75|         8.12|     18796|   Petrol|     Dealer|      Manual|    0|\n",
      "|      s cross|2015|          6.5|         8.61|     33429|   Diesel|     Dealer|      Manual|    0|\n",
      "|         ciaz|2016|         8.75|         8.89|     20273|   Diesel|     Dealer|      Manual|    0|\n",
      "|         ciaz|2015|         7.45|         8.92|     42367|   Diesel|     Dealer|      Manual|    0|\n",
      "|     alto 800|2017|         2.85|          3.6|      2135|   Petrol|     Dealer|      Manual|    0|\n",
      "|         ciaz|2015|         6.85|        10.38|     51000|   Diesel|     Dealer|      Manual|    0|\n",
      "|         ciaz|2015|          7.5|         9.94|     15000|   Petrol|     Dealer|   Automatic|    0|\n",
      "|       ertiga|2015|          6.1|         7.71|     26000|   Petrol|     Dealer|      Manual|    0|\n",
      "|        dzire|2009|         2.25|         7.21|     77427|   Petrol|     Dealer|      Manual|    0|\n",
      "|       ertiga|2016|         7.75|        10.79|     43000|   Diesel|     Dealer|      Manual|    0|\n",
      "|       ertiga|2015|         7.25|        10.79|     41678|   Diesel|     Dealer|      Manual|    0|\n",
      "|       ertiga|2016|         7.75|        10.79|     43000|   Diesel|     Dealer|      Manual|    0|\n",
      "|      wagon r|2015|         3.25|         5.09|     35500|      CNG|     Dealer|      Manual|    0|\n",
      "|          sx4|2010|         2.65|         7.98|     41442|   Petrol|     Dealer|      Manual|    0|\n",
      "+-------------+----+-------------+-------------+----------+---------+-----------+------------+-----+\n",
      "only showing top 20 rows\n",
      "\n"
     ]
    }
   ],
   "source": [
    "# Converting Year to datetime\n",
    "df1 = df.withColumn(\"Year\", F.to_date(F.col(\"Year\").cast(\"string\"), 'yyyy'))\n",
    "\n",
    "# Extracting Year\n",
    "df = df1.withColumn('Year', F.year(F.to_timestamp('Year', 'yyyy')))\n",
    "df.show()"
   ]
  },
  {
   "cell_type": "code",
   "execution_count": 216,
   "id": "85e22107",
   "metadata": {},
   "outputs": [],
   "source": [
    "from handyspark import * "
   ]
  },
  {
   "cell_type": "code",
   "execution_count": 217,
   "id": "b470adf4",
   "metadata": {},
   "outputs": [
    {
     "name": "stdout",
     "output_type": "stream",
     "text": [
      "+-------------+----+-------------+-------------+----------+---------+-----------+------------+-----+\n",
      "|     Car_Name|Year|Selling_Price|Present_Price|Kms_Driven|Fuel_Type|Seller_Type|Transmission|Owner|\n",
      "+-------------+----+-------------+-------------+----------+---------+-----------+------------+-----+\n",
      "|         ritz|2014|         3.35|         5.59|     27000|   Petrol|     Dealer|      Manual|    0|\n",
      "|          sx4|2013|         4.75|         9.54|     43000|   Diesel|     Dealer|      Manual|    0|\n",
      "|         ciaz|2017|         7.25|         9.85|      6900|   Petrol|     Dealer|      Manual|    0|\n",
      "|      wagon r|2011|         2.85|         4.15|      5200|   Petrol|     Dealer|      Manual|    0|\n",
      "|        swift|2014|          4.6|         6.87|     42450|   Diesel|     Dealer|      Manual|    0|\n",
      "|vitara brezza|2018|         9.25|         9.83|      2071|   Diesel|     Dealer|      Manual|    0|\n",
      "|         ciaz|2015|         6.75|         8.12|     18796|   Petrol|     Dealer|      Manual|    0|\n",
      "|      s cross|2015|          6.5|         8.61|     33429|   Diesel|     Dealer|      Manual|    0|\n",
      "|         ciaz|2016|         8.75|         8.89|     20273|   Diesel|     Dealer|      Manual|    0|\n",
      "|         ciaz|2015|         7.45|         8.92|     42367|   Diesel|     Dealer|      Manual|    0|\n",
      "|     alto 800|2017|         2.85|          3.6|      2135|   Petrol|     Dealer|      Manual|    0|\n",
      "|         ciaz|2015|         6.85|        10.38|     51000|   Diesel|     Dealer|      Manual|    0|\n",
      "|         ciaz|2015|          7.5|         9.94|     15000|   Petrol|     Dealer|   Automatic|    0|\n",
      "|       ertiga|2015|          6.1|         7.71|     26000|   Petrol|     Dealer|      Manual|    0|\n",
      "|        dzire|2009|         2.25|         7.21|     77427|   Petrol|     Dealer|      Manual|    0|\n",
      "|       ertiga|2016|         7.75|        10.79|     43000|   Diesel|     Dealer|      Manual|    0|\n",
      "|       ertiga|2015|         7.25|        10.79|     41678|   Diesel|     Dealer|      Manual|    0|\n",
      "|       ertiga|2016|         7.75|        10.79|     43000|   Diesel|     Dealer|      Manual|    0|\n",
      "|      wagon r|2015|         3.25|         5.09|     35500|      CNG|     Dealer|      Manual|    0|\n",
      "|          sx4|2010|         2.65|         7.98|     41442|   Petrol|     Dealer|      Manual|    0|\n",
      "+-------------+----+-------------+-------------+----------+---------+-----------+------------+-----+\n",
      "only showing top 20 rows\n",
      "\n"
     ]
    }
   ],
   "source": [
    "hdff=df.toHandy()\n",
    "hdff.show()"
   ]
  },
  {
   "cell_type": "code",
   "execution_count": 218,
   "id": "936772d3",
   "metadata": {},
   "outputs": [],
   "source": [
    "# Converting to Pandas dataframe for visualization\n",
    "hdf =df.toPandas()\n"
   ]
  },
  {
   "cell_type": "code",
   "execution_count": 219,
   "id": "b2048eed",
   "metadata": {},
   "outputs": [
    {
     "data": {
      "text/html": [
       "<div>\n",
       "<style scoped>\n",
       "    .dataframe tbody tr th:only-of-type {\n",
       "        vertical-align: middle;\n",
       "    }\n",
       "\n",
       "    .dataframe tbody tr th {\n",
       "        vertical-align: top;\n",
       "    }\n",
       "\n",
       "    .dataframe thead th {\n",
       "        text-align: right;\n",
       "    }\n",
       "</style>\n",
       "<table border=\"1\" class=\"dataframe\">\n",
       "  <thead>\n",
       "    <tr style=\"text-align: right;\">\n",
       "      <th></th>\n",
       "      <th>Car_Name</th>\n",
       "      <th>Year</th>\n",
       "      <th>Selling_Price</th>\n",
       "      <th>Present_Price</th>\n",
       "      <th>Kms_Driven</th>\n",
       "      <th>Fuel_Type</th>\n",
       "      <th>Seller_Type</th>\n",
       "      <th>Transmission</th>\n",
       "      <th>Owner</th>\n",
       "    </tr>\n",
       "  </thead>\n",
       "  <tbody>\n",
       "    <tr>\n",
       "      <th>0</th>\n",
       "      <td>ritz</td>\n",
       "      <td>2014</td>\n",
       "      <td>3.35</td>\n",
       "      <td>5.59</td>\n",
       "      <td>27000</td>\n",
       "      <td>Petrol</td>\n",
       "      <td>Dealer</td>\n",
       "      <td>Manual</td>\n",
       "      <td>0</td>\n",
       "    </tr>\n",
       "    <tr>\n",
       "      <th>1</th>\n",
       "      <td>sx4</td>\n",
       "      <td>2013</td>\n",
       "      <td>4.75</td>\n",
       "      <td>9.54</td>\n",
       "      <td>43000</td>\n",
       "      <td>Diesel</td>\n",
       "      <td>Dealer</td>\n",
       "      <td>Manual</td>\n",
       "      <td>0</td>\n",
       "    </tr>\n",
       "    <tr>\n",
       "      <th>2</th>\n",
       "      <td>ciaz</td>\n",
       "      <td>2017</td>\n",
       "      <td>7.25</td>\n",
       "      <td>9.85</td>\n",
       "      <td>6900</td>\n",
       "      <td>Petrol</td>\n",
       "      <td>Dealer</td>\n",
       "      <td>Manual</td>\n",
       "      <td>0</td>\n",
       "    </tr>\n",
       "    <tr>\n",
       "      <th>3</th>\n",
       "      <td>wagon r</td>\n",
       "      <td>2011</td>\n",
       "      <td>2.85</td>\n",
       "      <td>4.15</td>\n",
       "      <td>5200</td>\n",
       "      <td>Petrol</td>\n",
       "      <td>Dealer</td>\n",
       "      <td>Manual</td>\n",
       "      <td>0</td>\n",
       "    </tr>\n",
       "    <tr>\n",
       "      <th>4</th>\n",
       "      <td>swift</td>\n",
       "      <td>2014</td>\n",
       "      <td>4.60</td>\n",
       "      <td>6.87</td>\n",
       "      <td>42450</td>\n",
       "      <td>Diesel</td>\n",
       "      <td>Dealer</td>\n",
       "      <td>Manual</td>\n",
       "      <td>0</td>\n",
       "    </tr>\n",
       "  </tbody>\n",
       "</table>\n",
       "</div>"
      ],
      "text/plain": [
       "  Car_Name  Year  Selling_Price  Present_Price  Kms_Driven Fuel_Type  \\\n",
       "0     ritz  2014           3.35           5.59       27000    Petrol   \n",
       "1      sx4  2013           4.75           9.54       43000    Diesel   \n",
       "2     ciaz  2017           7.25           9.85        6900    Petrol   \n",
       "3  wagon r  2011           2.85           4.15        5200    Petrol   \n",
       "4    swift  2014           4.60           6.87       42450    Diesel   \n",
       "\n",
       "  Seller_Type Transmission  Owner  \n",
       "0      Dealer       Manual      0  \n",
       "1      Dealer       Manual      0  \n",
       "2      Dealer       Manual      0  \n",
       "3      Dealer       Manual      0  \n",
       "4      Dealer       Manual      0  "
      ]
     },
     "execution_count": 219,
     "metadata": {},
     "output_type": "execute_result"
    }
   ],
   "source": [
    "hdf.head()"
   ]
  },
  {
   "cell_type": "code",
   "execution_count": 220,
   "id": "d78ef5f4",
   "metadata": {},
   "outputs": [
    {
     "data": {
      "image/png": "[encoded data removed]",
      "text/plain": [
       "<Figure size 720x504 with 1 Axes>"
      ]
     },
     "metadata": {
      "needs_background": "light"
     },
     "output_type": "display_data"
    }
   ],
   "source": [
    "fig, ax = plt.subplots(figsize=(10, 7))\n",
    "hdf['Selling_Price'].hist(ax=ax)\n",
    "plt.show()"
   ]
  },
  {
   "cell_type": "markdown",
   "id": "edd1c3aa",
   "metadata": {},
   "source": [
    "### Observation:\n",
    "\n",
    "We see a right skewed distribution.\n",
    "\n",
    "Max price can go till 35 lacs causing the skew.\n",
    "\n",
    "Majority of the cars have price listings under 15 lacs."
   ]
  },
  {
   "cell_type": "code",
   "execution_count": 221,
   "id": "65a6d1a4",
   "metadata": {},
   "outputs": [
    {
     "data": {
      "image/png": "[encoded data removed]",
      "text/plain": [
       "<Figure size 720x504 with 1 Axes>"
      ]
     },
     "metadata": {
      "needs_background": "light"
     },
     "output_type": "display_data"
    }
   ],
   "source": [
    "fig, ax = plt.subplots(figsize=(10, 7))\n",
    "hdf['Seller_Type'].hist(ax=ax)\n",
    "plt.show()"
   ]
  },
  {
   "cell_type": "markdown",
   "id": "8830be20",
   "metadata": {},
   "source": [
    "### Observation:\n",
    "\n",
    "More than 175 sellers are dealers and the rest are simply individuals looking for selling their cars."
   ]
  },
  {
   "cell_type": "code",
   "execution_count": 222,
   "id": "7ced1723",
   "metadata": {},
   "outputs": [
    {
     "data": {
      "image/png": "[encoded data removed]",
      "text/plain": [
       "<Figure size 720x504 with 1 Axes>"
      ]
     },
     "metadata": {
      "needs_background": "light"
     },
     "output_type": "display_data"
    }
   ],
   "source": [
    "fig, ax = plt.subplots(figsize=(10, 7))\n",
    "hdf['Transmission'].hist(ax=ax)\n",
    "plt.show()"
   ]
  },
  {
   "cell_type": "markdown",
   "id": "3047bbcb",
   "metadata": {},
   "source": [
    "### Observation:\n",
    "\n",
    "Mostof the listed cars (> 250) are of Manual transmission type."
   ]
  },
  {
   "cell_type": "code",
   "execution_count": 223,
   "id": "491fe318",
   "metadata": {},
   "outputs": [
    {
     "data": {
      "image/png": "[encoded data removed]",
      "text/plain": [
       "<Figure size 720x504 with 1 Axes>"
      ]
     },
     "metadata": {
      "needs_background": "light"
     },
     "output_type": "display_data"
    }
   ],
   "source": [
    "fig, ax = plt.subplots(figsize=(10, 7))\n",
    "hdf['Owner'].hist(ax=ax)\n",
    "plt.show()"
   ]
  },
  {
   "cell_type": "markdown",
   "id": "a9190795",
   "metadata": {},
   "source": [
    "### Observation:\n",
    "\n",
    "We have three owner types where 0 indicates brand new cars (0 previous owners), 1 indicates that the car is second-hand, and 3 indicates that there were 3 owners before the car was listed.\n",
    "\n",
    "There is just one row which has Owner=3."
   ]
  },
  {
   "cell_type": "code",
   "execution_count": 224,
   "id": "d19579a9",
   "metadata": {},
   "outputs": [],
   "source": [
    "import seaborn as sns "
   ]
  },
  {
   "cell_type": "code",
   "execution_count": 284,
   "id": "f8ea2e64",
   "metadata": {},
   "outputs": [
    {
     "data": {
      "image/png": "[encoded data removed]",
      "text/plain": [
       "<Figure size 720x504 with 1 Axes>"
      ]
     },
     "metadata": {
      "needs_background": "light"
     },
     "output_type": "display_data"
    }
   ],
   "source": [
    "fig, ax = plt.subplots(figsize=(10, 7))\n",
    "sns.scatterplot(data=hdf, x=\"Kms_Driven\", y=\"Selling_Price\",hue=\"Fuel_Type\")\n",
    "plt.show()"
   ]
  },
  {
   "cell_type": "code",
   "execution_count": 226,
   "id": "762d8c74",
   "metadata": {},
   "outputs": [
    {
     "data": {
      "image/png": "[encoded data removed]",
      "text/plain": [
       "<Figure size 720x504 with 1 Axes>"
      ]
     },
     "metadata": {
      "needs_background": "light"
     },
     "output_type": "display_data"
    }
   ],
   "source": [
    "fig, ax = plt.subplots(figsize=(10, 7))\n",
    "sns.scatterplot(data=hdf, x=\"Selling_Price\", y=\"Present_Price\",hue=\"Fuel_Type\")\n",
    "plt.show()"
   ]
  },
  {
   "cell_type": "code",
   "execution_count": 227,
   "id": "6ae63d57",
   "metadata": {},
   "outputs": [
    {
     "data": {
      "image/png": "[encoded data removed]",
      "text/plain": [
       "<Figure size 1080x720 with 2 Axes>"
      ]
     },
     "metadata": {
      "needs_background": "light"
     },
     "output_type": "display_data"
    }
   ],
   "source": [
    "from pyspark.ml.feature import VectorAssembler    \n",
    "from pyspark.ml.stat import Correlation\n",
    "plt.figure(figsize=(15,10))\n",
    "sns.heatmap(hdf.corr(), annot=True)\n",
    "plt.show()"
   ]
  },
  {
   "cell_type": "markdown",
   "id": "62e3e760",
   "metadata": {},
   "source": [
    "### Observation:\n",
    "\n",
    "Selling_Price is highly correlated with Presnet_Price and is mildly influenced by Year of make as well.\n",
    "\n",
    "We can see Present_Price is slightly related to Kms_Driven but is not influenced as much.\n",
    "\n",
    "Kms_Driven and Year are inversely correlated, indicating that some listed cars are being driven since their make year."
   ]
  },
  {
   "cell_type": "code",
   "execution_count": 228,
   "id": "346d574a",
   "metadata": {},
   "outputs": [
    {
     "data": {
      "text/plain": [
       "Transmission\n",
       "Automatic    9.420000\n",
       "Manual       3.931992\n",
       "Name: Selling_Price, dtype: float64"
      ]
     },
     "execution_count": 228,
     "metadata": {},
     "output_type": "execute_result"
    }
   ],
   "source": [
    "hdff.stratify(['Transmission']).cols['Selling_Price'].mean()"
   ]
  },
  {
   "cell_type": "markdown",
   "id": "8a33b7cb",
   "metadata": {},
   "source": [
    "## Mean value for Manual Transmission cars is 3.9 lacs and it is 9.4 lacs for Automatic."
   ]
  },
  {
   "cell_type": "code",
   "execution_count": 229,
   "id": "b7774aa4",
   "metadata": {},
   "outputs": [
    {
     "data": {
      "text/plain": [
       "Fuel_Type\n",
       "CNG        3.100000\n",
       "Diesel    10.278500\n",
       "Petrol     3.264184\n",
       "Name: Selling_Price, dtype: float64"
      ]
     },
     "execution_count": 229,
     "metadata": {},
     "output_type": "execute_result"
    }
   ],
   "source": [
    "hdff.stratify(['Fuel_Type']).cols['Selling_Price'].mean()"
   ]
  },
  {
   "cell_type": "markdown",
   "id": "2687ea1e",
   "metadata": {},
   "source": [
    "## Mean value for fuel type  CNG cars is 3.1 lacs and for Diesel is 10 lacs and petrol is 3.2 lacs"
   ]
  },
  {
   "cell_type": "code",
   "execution_count": 230,
   "id": "04611182",
   "metadata": {},
   "outputs": [
    {
     "name": "stdout",
     "output_type": "stream",
     "text": [
      "+-------------+----+-------------+-------------+----------+---------+-----------+------------+-----+\n",
      "|     Car_Name|Year|Selling_Price|Present_Price|Kms_Driven|Fuel_Type|Seller_Type|Transmission|Owner|\n",
      "+-------------+----+-------------+-------------+----------+---------+-----------+------------+-----+\n",
      "|         ritz|2014|         3.35|         5.59|     27000|   Petrol|     Dealer|      Manual|    0|\n",
      "|          sx4|2013|         4.75|         9.54|     43000|   Diesel|     Dealer|      Manual|    0|\n",
      "|         ciaz|2017|         7.25|         9.85|      6900|   Petrol|     Dealer|      Manual|    0|\n",
      "|      wagon r|2011|         2.85|         4.15|      5200|   Petrol|     Dealer|      Manual|    0|\n",
      "|        swift|2014|          4.6|         6.87|     42450|   Diesel|     Dealer|      Manual|    0|\n",
      "|vitara brezza|2018|         9.25|         9.83|      2071|   Diesel|     Dealer|      Manual|    0|\n",
      "|         ciaz|2015|         6.75|         8.12|     18796|   Petrol|     Dealer|      Manual|    0|\n",
      "|      s cross|2015|          6.5|         8.61|     33429|   Diesel|     Dealer|      Manual|    0|\n",
      "|         ciaz|2016|         8.75|         8.89|     20273|   Diesel|     Dealer|      Manual|    0|\n",
      "|         ciaz|2015|         7.45|         8.92|     42367|   Diesel|     Dealer|      Manual|    0|\n",
      "|     alto 800|2017|         2.85|          3.6|      2135|   Petrol|     Dealer|      Manual|    0|\n",
      "|         ciaz|2015|         6.85|        10.38|     51000|   Diesel|     Dealer|      Manual|    0|\n",
      "|         ciaz|2015|          7.5|         9.94|     15000|   Petrol|     Dealer|   Automatic|    0|\n",
      "|       ertiga|2015|          6.1|         7.71|     26000|   Petrol|     Dealer|      Manual|    0|\n",
      "|        dzire|2009|         2.25|         7.21|     77427|   Petrol|     Dealer|      Manual|    0|\n",
      "|       ertiga|2016|         7.75|        10.79|     43000|   Diesel|     Dealer|      Manual|    0|\n",
      "|       ertiga|2015|         7.25|        10.79|     41678|   Diesel|     Dealer|      Manual|    0|\n",
      "|       ertiga|2016|         7.75|        10.79|     43000|   Diesel|     Dealer|      Manual|    0|\n",
      "|      wagon r|2015|         3.25|         5.09|     35500|      CNG|     Dealer|      Manual|    0|\n",
      "|          sx4|2010|         2.65|         7.98|     41442|   Petrol|     Dealer|      Manual|    0|\n",
      "+-------------+----+-------------+-------------+----------+---------+-----------+------------+-----+\n",
      "only showing top 20 rows\n",
      "\n"
     ]
    }
   ],
   "source": [
    "df.show()"
   ]
  },
  {
   "cell_type": "markdown",
   "id": "d8ff2188",
   "metadata": {},
   "source": [
    "# Transforming Data using onehotencoder"
   ]
  },
  {
   "cell_type": "code",
   "execution_count": 231,
   "id": "48d9cdaf",
   "metadata": {},
   "outputs": [
    {
     "data": {
      "text/plain": [
       "['Car_Name',\n",
       " 'Year',\n",
       " 'Selling_Price',\n",
       " 'Present_Price',\n",
       " 'Kms_Driven',\n",
       " 'Fuel_Type',\n",
       " 'Seller_Type',\n",
       " 'Transmission',\n",
       " 'Owner']"
      ]
     },
     "execution_count": 231,
     "metadata": {},
     "output_type": "execute_result"
    }
   ],
   "source": [
    "df.columns\n"
   ]
  },
  {
   "cell_type": "code",
   "execution_count": 232,
   "id": "2e8284e4",
   "metadata": {
    "scrolled": true
   },
   "outputs": [
    {
     "name": "stdout",
     "output_type": "stream",
     "text": [
      "+----+-------------+-------------+----------+---------+-----------+------------+-----+\n",
      "|Year|Selling_Price|Present_Price|Kms_Driven|Fuel_Type|Seller_Type|Transmission|Owner|\n",
      "+----+-------------+-------------+----------+---------+-----------+------------+-----+\n",
      "|2014|         3.35|         5.59|     27000|   Petrol|     Dealer|      Manual|    0|\n",
      "|2013|         4.75|         9.54|     43000|   Diesel|     Dealer|      Manual|    0|\n",
      "|2017|         7.25|         9.85|      6900|   Petrol|     Dealer|      Manual|    0|\n",
      "|2011|         2.85|         4.15|      5200|   Petrol|     Dealer|      Manual|    0|\n",
      "|2014|          4.6|         6.87|     42450|   Diesel|     Dealer|      Manual|    0|\n",
      "|2018|         9.25|         9.83|      2071|   Diesel|     Dealer|      Manual|    0|\n",
      "|2015|         6.75|         8.12|     18796|   Petrol|     Dealer|      Manual|    0|\n",
      "|2015|          6.5|         8.61|     33429|   Diesel|     Dealer|      Manual|    0|\n",
      "|2016|         8.75|         8.89|     20273|   Diesel|     Dealer|      Manual|    0|\n",
      "|2015|         7.45|         8.92|     42367|   Diesel|     Dealer|      Manual|    0|\n",
      "|2017|         2.85|          3.6|      2135|   Petrol|     Dealer|      Manual|    0|\n",
      "|2015|         6.85|        10.38|     51000|   Diesel|     Dealer|      Manual|    0|\n",
      "|2015|          7.5|         9.94|     15000|   Petrol|     Dealer|   Automatic|    0|\n",
      "|2015|          6.1|         7.71|     26000|   Petrol|     Dealer|      Manual|    0|\n",
      "|2009|         2.25|         7.21|     77427|   Petrol|     Dealer|      Manual|    0|\n",
      "|2016|         7.75|        10.79|     43000|   Diesel|     Dealer|      Manual|    0|\n",
      "|2015|         7.25|        10.79|     41678|   Diesel|     Dealer|      Manual|    0|\n",
      "|2016|         7.75|        10.79|     43000|   Diesel|     Dealer|      Manual|    0|\n",
      "|2015|         3.25|         5.09|     35500|      CNG|     Dealer|      Manual|    0|\n",
      "|2010|         2.65|         7.98|     41442|   Petrol|     Dealer|      Manual|    0|\n",
      "+----+-------------+-------------+----------+---------+-----------+------------+-----+\n",
      "only showing top 20 rows\n",
      "\n"
     ]
    }
   ],
   "source": [
    "final_df=df[['Year', 'Selling_Price', 'Present_Price', 'Kms_Driven','Fuel_Type', 'Seller_Type', 'Transmission', 'Owner']]\n",
    "final_df.show()"
   ]
  },
  {
   "cell_type": "code",
   "execution_count": 237,
   "id": "4e31f054",
   "metadata": {},
   "outputs": [
    {
     "name": "stdout",
     "output_type": "stream",
     "text": [
      "+----+-------------+-------------+----------+---------+-----------+------------+-----+-----------------+\n",
      "|Year|Selling_Price|Present_Price|Kms_Driven|Fuel_Type|Seller_Type|Transmission|Owner|Fuel_Type_indexer|\n",
      "+----+-------------+-------------+----------+---------+-----------+------------+-----+-----------------+\n",
      "|2014|         3.35|         5.59|     27000|   Petrol|     Dealer|      Manual|    0|              0.0|\n",
      "|2013|         4.75|         9.54|     43000|   Diesel|     Dealer|      Manual|    0|              1.0|\n",
      "|2017|         7.25|         9.85|      6900|   Petrol|     Dealer|      Manual|    0|              0.0|\n",
      "|2011|         2.85|         4.15|      5200|   Petrol|     Dealer|      Manual|    0|              0.0|\n",
      "|2014|          4.6|         6.87|     42450|   Diesel|     Dealer|      Manual|    0|              1.0|\n",
      "|2018|         9.25|         9.83|      2071|   Diesel|     Dealer|      Manual|    0|              1.0|\n",
      "|2015|         6.75|         8.12|     18796|   Petrol|     Dealer|      Manual|    0|              0.0|\n",
      "|2015|          6.5|         8.61|     33429|   Diesel|     Dealer|      Manual|    0|              1.0|\n",
      "|2016|         8.75|         8.89|     20273|   Diesel|     Dealer|      Manual|    0|              1.0|\n",
      "|2015|         7.45|         8.92|     42367|   Diesel|     Dealer|      Manual|    0|              1.0|\n",
      "|2017|         2.85|          3.6|      2135|   Petrol|     Dealer|      Manual|    0|              0.0|\n",
      "|2015|         6.85|        10.38|     51000|   Diesel|     Dealer|      Manual|    0|              1.0|\n",
      "|2015|          7.5|         9.94|     15000|   Petrol|     Dealer|   Automatic|    0|              0.0|\n",
      "|2015|          6.1|         7.71|     26000|   Petrol|     Dealer|      Manual|    0|              0.0|\n",
      "|2009|         2.25|         7.21|     77427|   Petrol|     Dealer|      Manual|    0|              0.0|\n",
      "|2016|         7.75|        10.79|     43000|   Diesel|     Dealer|      Manual|    0|              1.0|\n",
      "|2015|         7.25|        10.79|     41678|   Diesel|     Dealer|      Manual|    0|              1.0|\n",
      "|2016|         7.75|        10.79|     43000|   Diesel|     Dealer|      Manual|    0|              1.0|\n",
      "|2015|         3.25|         5.09|     35500|      CNG|     Dealer|      Manual|    0|              2.0|\n",
      "|2010|         2.65|         7.98|     41442|   Petrol|     Dealer|      Manual|    0|              0.0|\n",
      "+----+-------------+-------------+----------+---------+-----------+------------+-----+-----------------+\n",
      "only showing top 20 rows\n",
      "\n"
     ]
    }
   ],
   "source": [
    "from pyspark.ml.feature import StringIndexer\n",
    "Fueltype_indexer = StringIndexer(inputCol=\"Fuel_Type\", outputCol=\"Fuel_Type_indexer\")\n",
    "#Fits a model to the input dataset with optional parameters.\n",
    "df1 = Fueltype_indexer.fit(final_df).transform(final_df)\n",
    "df1.show()"
   ]
  },
  {
   "cell_type": "code",
   "execution_count": 239,
   "id": "e29a6827",
   "metadata": {},
   "outputs": [
    {
     "name": "stdout",
     "output_type": "stream",
     "text": [
      "+----+-------------+-------------+----------+---------+-----------+------------+-----+-----------------+-------------------+\n",
      "|Year|Selling_Price|Present_Price|Kms_Driven|Fuel_Type|Seller_Type|Transmission|Owner|Fuel_Type_indexer|Seller_Type_indexer|\n",
      "+----+-------------+-------------+----------+---------+-----------+------------+-----+-----------------+-------------------+\n",
      "|2014|         3.35|         5.59|     27000|   Petrol|     Dealer|      Manual|    0|              0.0|                0.0|\n",
      "|2013|         4.75|         9.54|     43000|   Diesel|     Dealer|      Manual|    0|              1.0|                0.0|\n",
      "|2017|         7.25|         9.85|      6900|   Petrol|     Dealer|      Manual|    0|              0.0|                0.0|\n",
      "|2011|         2.85|         4.15|      5200|   Petrol|     Dealer|      Manual|    0|              0.0|                0.0|\n",
      "|2014|          4.6|         6.87|     42450|   Diesel|     Dealer|      Manual|    0|              1.0|                0.0|\n",
      "|2018|         9.25|         9.83|      2071|   Diesel|     Dealer|      Manual|    0|              1.0|                0.0|\n",
      "|2015|         6.75|         8.12|     18796|   Petrol|     Dealer|      Manual|    0|              0.0|                0.0|\n",
      "|2015|          6.5|         8.61|     33429|   Diesel|     Dealer|      Manual|    0|              1.0|                0.0|\n",
      "|2016|         8.75|         8.89|     20273|   Diesel|     Dealer|      Manual|    0|              1.0|                0.0|\n",
      "|2015|         7.45|         8.92|     42367|   Diesel|     Dealer|      Manual|    0|              1.0|                0.0|\n",
      "|2017|         2.85|          3.6|      2135|   Petrol|     Dealer|      Manual|    0|              0.0|                0.0|\n",
      "|2015|         6.85|        10.38|     51000|   Diesel|     Dealer|      Manual|    0|              1.0|                0.0|\n",
      "|2015|          7.5|         9.94|     15000|   Petrol|     Dealer|   Automatic|    0|              0.0|                0.0|\n",
      "|2015|          6.1|         7.71|     26000|   Petrol|     Dealer|      Manual|    0|              0.0|                0.0|\n",
      "|2009|         2.25|         7.21|     77427|   Petrol|     Dealer|      Manual|    0|              0.0|                0.0|\n",
      "|2016|         7.75|        10.79|     43000|   Diesel|     Dealer|      Manual|    0|              1.0|                0.0|\n",
      "|2015|         7.25|        10.79|     41678|   Diesel|     Dealer|      Manual|    0|              1.0|                0.0|\n",
      "|2016|         7.75|        10.79|     43000|   Diesel|     Dealer|      Manual|    0|              1.0|                0.0|\n",
      "|2015|         3.25|         5.09|     35500|      CNG|     Dealer|      Manual|    0|              2.0|                0.0|\n",
      "|2010|         2.65|         7.98|     41442|   Petrol|     Dealer|      Manual|    0|              0.0|                0.0|\n",
      "+----+-------------+-------------+----------+---------+-----------+------------+-----+-----------------+-------------------+\n",
      "only showing top 20 rows\n",
      "\n"
     ]
    }
   ],
   "source": [
    "from pyspark.ml.feature import StringIndexer\n",
    "Seller_indexer = StringIndexer(inputCol=\"Seller_Type\", outputCol=\"Seller_Type_indexer\")\n",
    "#Fits a model to the input dataset with optional parameters.\n",
    "df2 = Seller_indexer.fit(df1).transform(df1)\n",
    "df2.show()"
   ]
  },
  {
   "cell_type": "code",
   "execution_count": 240,
   "id": "33843e72",
   "metadata": {},
   "outputs": [
    {
     "name": "stdout",
     "output_type": "stream",
     "text": [
      "+----+-------------+-------------+----------+---------+-----------+------------+-----+-----------------+-------------------+--------------------+\n",
      "|Year|Selling_Price|Present_Price|Kms_Driven|Fuel_Type|Seller_Type|Transmission|Owner|Fuel_Type_indexer|Seller_Type_indexer|transmission_indexer|\n",
      "+----+-------------+-------------+----------+---------+-----------+------------+-----+-----------------+-------------------+--------------------+\n",
      "|2014|         3.35|         5.59|     27000|   Petrol|     Dealer|      Manual|    0|              0.0|                0.0|                 0.0|\n",
      "|2013|         4.75|         9.54|     43000|   Diesel|     Dealer|      Manual|    0|              1.0|                0.0|                 0.0|\n",
      "|2017|         7.25|         9.85|      6900|   Petrol|     Dealer|      Manual|    0|              0.0|                0.0|                 0.0|\n",
      "|2011|         2.85|         4.15|      5200|   Petrol|     Dealer|      Manual|    0|              0.0|                0.0|                 0.0|\n",
      "|2014|          4.6|         6.87|     42450|   Diesel|     Dealer|      Manual|    0|              1.0|                0.0|                 0.0|\n",
      "|2018|         9.25|         9.83|      2071|   Diesel|     Dealer|      Manual|    0|              1.0|                0.0|                 0.0|\n",
      "|2015|         6.75|         8.12|     18796|   Petrol|     Dealer|      Manual|    0|              0.0|                0.0|                 0.0|\n",
      "|2015|          6.5|         8.61|     33429|   Diesel|     Dealer|      Manual|    0|              1.0|                0.0|                 0.0|\n",
      "|2016|         8.75|         8.89|     20273|   Diesel|     Dealer|      Manual|    0|              1.0|                0.0|                 0.0|\n",
      "|2015|         7.45|         8.92|     42367|   Diesel|     Dealer|      Manual|    0|              1.0|                0.0|                 0.0|\n",
      "|2017|         2.85|          3.6|      2135|   Petrol|     Dealer|      Manual|    0|              0.0|                0.0|                 0.0|\n",
      "|2015|         6.85|        10.38|     51000|   Diesel|     Dealer|      Manual|    0|              1.0|                0.0|                 0.0|\n",
      "|2015|          7.5|         9.94|     15000|   Petrol|     Dealer|   Automatic|    0|              0.0|                0.0|                 1.0|\n",
      "|2015|          6.1|         7.71|     26000|   Petrol|     Dealer|      Manual|    0|              0.0|                0.0|                 0.0|\n",
      "|2009|         2.25|         7.21|     77427|   Petrol|     Dealer|      Manual|    0|              0.0|                0.0|                 0.0|\n",
      "|2016|         7.75|        10.79|     43000|   Diesel|     Dealer|      Manual|    0|              1.0|                0.0|                 0.0|\n",
      "|2015|         7.25|        10.79|     41678|   Diesel|     Dealer|      Manual|    0|              1.0|                0.0|                 0.0|\n",
      "|2016|         7.75|        10.79|     43000|   Diesel|     Dealer|      Manual|    0|              1.0|                0.0|                 0.0|\n",
      "|2015|         3.25|         5.09|     35500|      CNG|     Dealer|      Manual|    0|              2.0|                0.0|                 0.0|\n",
      "|2010|         2.65|         7.98|     41442|   Petrol|     Dealer|      Manual|    0|              0.0|                0.0|                 0.0|\n",
      "+----+-------------+-------------+----------+---------+-----------+------------+-----+-----------------+-------------------+--------------------+\n",
      "only showing top 20 rows\n",
      "\n"
     ]
    }
   ],
   "source": [
    "from pyspark.ml.feature import StringIndexer\n",
    "transmission_indexer = StringIndexer(inputCol=\"Transmission\", outputCol=\"transmission_indexer\")\n",
    "#Fits a model to the input dataset with optional parameters.\n",
    "df3 = transmission_indexer.fit(df2).transform(df2)\n",
    "df3.show()"
   ]
  },
  {
   "cell_type": "code",
   "execution_count": 241,
   "id": "5e0ec3b6",
   "metadata": {},
   "outputs": [],
   "source": [
    "from pyspark.ml.feature import OneHotEncoder"
   ]
  },
  {
   "cell_type": "code",
   "execution_count": 246,
   "id": "ccfba0df",
   "metadata": {},
   "outputs": [],
   "source": [
    "onehotencoder = OneHotEncoder(inputCol=\"Fuel_Type_indexer\", outputCol=\"Fueltype\")\n",
    "df4 = onehotencoder.fit(df3).transform(df3)\n"
   ]
  },
  {
   "cell_type": "code",
   "execution_count": 248,
   "id": "9e5d8ff7",
   "metadata": {},
   "outputs": [],
   "source": [
    "onehotencoder = OneHotEncoder(inputCol=\"transmission_indexer\", outputCol=\"transmission\")\n",
    "df5 = onehotencoder.fit(df4).transform(df4)"
   ]
  },
  {
   "cell_type": "code",
   "execution_count": 250,
   "id": "fe21b65a",
   "metadata": {},
   "outputs": [],
   "source": [
    "onehotencoder = OneHotEncoder(inputCol=\"Seller_Type_indexer\", outputCol=\"selletype\")\n",
    "df6 = onehotencoder.fit(df5).transform(df5)"
   ]
  },
  {
   "cell_type": "code",
   "execution_count": 252,
   "id": "35f31402",
   "metadata": {},
   "outputs": [
    {
     "data": {
      "text/plain": [
       "['Year',\n",
       " 'Selling_Price',\n",
       " 'Present_Price',\n",
       " 'Kms_Driven',\n",
       " 'Fuel_Type',\n",
       " 'Seller_Type',\n",
       " 'transmission',\n",
       " 'Owner',\n",
       " 'Fuel_Type_indexer',\n",
       " 'Seller_Type_indexer',\n",
       " 'transmission_indexer',\n",
       " 'Fueltype',\n",
       " 'selletype']"
      ]
     },
     "execution_count": 252,
     "metadata": {},
     "output_type": "execute_result"
    }
   ],
   "source": [
    "df6.columns"
   ]
  },
  {
   "cell_type": "markdown",
   "id": "98b979ce",
   "metadata": {},
   "source": [
    "# Feature Selection"
   ]
  },
  {
   "cell_type": "code",
   "execution_count": 255,
   "id": "e16260e2",
   "metadata": {},
   "outputs": [],
   "source": [
    "data=df6[['Year', 'Selling_Price', 'Present_Price', 'Kms_Driven','Fueltype', 'selletype', 'transmission', 'Owner']]"
   ]
  },
  {
   "cell_type": "code",
   "execution_count": 256,
   "id": "8a4454ab",
   "metadata": {},
   "outputs": [
    {
     "name": "stdout",
     "output_type": "stream",
     "text": [
      "+----+-------------+-------------+----------+-------------+-------------+-------------+-----+\n",
      "|Year|Selling_Price|Present_Price|Kms_Driven|     Fueltype|    selletype| transmission|Owner|\n",
      "+----+-------------+-------------+----------+-------------+-------------+-------------+-----+\n",
      "|2014|         3.35|         5.59|     27000|(2,[0],[1.0])|(1,[0],[1.0])|(1,[0],[1.0])|    0|\n",
      "|2013|         4.75|         9.54|     43000|(2,[1],[1.0])|(1,[0],[1.0])|(1,[0],[1.0])|    0|\n",
      "|2017|         7.25|         9.85|      6900|(2,[0],[1.0])|(1,[0],[1.0])|(1,[0],[1.0])|    0|\n",
      "|2011|         2.85|         4.15|      5200|(2,[0],[1.0])|(1,[0],[1.0])|(1,[0],[1.0])|    0|\n",
      "|2014|          4.6|         6.87|     42450|(2,[1],[1.0])|(1,[0],[1.0])|(1,[0],[1.0])|    0|\n",
      "|2018|         9.25|         9.83|      2071|(2,[1],[1.0])|(1,[0],[1.0])|(1,[0],[1.0])|    0|\n",
      "|2015|         6.75|         8.12|     18796|(2,[0],[1.0])|(1,[0],[1.0])|(1,[0],[1.0])|    0|\n",
      "|2015|          6.5|         8.61|     33429|(2,[1],[1.0])|(1,[0],[1.0])|(1,[0],[1.0])|    0|\n",
      "|2016|         8.75|         8.89|     20273|(2,[1],[1.0])|(1,[0],[1.0])|(1,[0],[1.0])|    0|\n",
      "|2015|         7.45|         8.92|     42367|(2,[1],[1.0])|(1,[0],[1.0])|(1,[0],[1.0])|    0|\n",
      "|2017|         2.85|          3.6|      2135|(2,[0],[1.0])|(1,[0],[1.0])|(1,[0],[1.0])|    0|\n",
      "|2015|         6.85|        10.38|     51000|(2,[1],[1.0])|(1,[0],[1.0])|(1,[0],[1.0])|    0|\n",
      "|2015|          7.5|         9.94|     15000|(2,[0],[1.0])|(1,[0],[1.0])|    (1,[],[])|    0|\n",
      "|2015|          6.1|         7.71|     26000|(2,[0],[1.0])|(1,[0],[1.0])|(1,[0],[1.0])|    0|\n",
      "|2009|         2.25|         7.21|     77427|(2,[0],[1.0])|(1,[0],[1.0])|(1,[0],[1.0])|    0|\n",
      "|2016|         7.75|        10.79|     43000|(2,[1],[1.0])|(1,[0],[1.0])|(1,[0],[1.0])|    0|\n",
      "|2015|         7.25|        10.79|     41678|(2,[1],[1.0])|(1,[0],[1.0])|(1,[0],[1.0])|    0|\n",
      "|2016|         7.75|        10.79|     43000|(2,[1],[1.0])|(1,[0],[1.0])|(1,[0],[1.0])|    0|\n",
      "|2015|         3.25|         5.09|     35500|    (2,[],[])|(1,[0],[1.0])|(1,[0],[1.0])|    0|\n",
      "|2010|         2.65|         7.98|     41442|(2,[0],[1.0])|(1,[0],[1.0])|(1,[0],[1.0])|    0|\n",
      "+----+-------------+-------------+----------+-------------+-------------+-------------+-----+\n",
      "only showing top 20 rows\n",
      "\n"
     ]
    }
   ],
   "source": [
    "data.show()"
   ]
  },
  {
   "cell_type": "code",
   "execution_count": 268,
   "id": "33005781",
   "metadata": {},
   "outputs": [],
   "source": [
    "from pyspark.ml.feature import VectorAssembler\n",
    "assembler = VectorAssembler(inputCols = [\"Year\",\"Present_Price\",\"Kms_Driven\",\"Fueltype\",\"transmission\",\"selletype\",\"Owner\"],\n",
    "                           outputCol = \"Input Attributes\")"
   ]
  },
  {
   "cell_type": "code",
   "execution_count": 269,
   "id": "be2ee730",
   "metadata": {},
   "outputs": [],
   "source": [
    "from pyspark.ml.regression import RandomForestRegressor\n",
    "regressor = RandomForestRegressor(featuresCol = 'Input Attributes', labelCol = \"Selling_Price\")"
   ]
  },
  {
   "cell_type": "code",
   "execution_count": 270,
   "id": "14e80efe",
   "metadata": {},
   "outputs": [],
   "source": [
    "from pyspark.ml import Pipeline\n",
    "pipeline  = Pipeline(stages = [assembler,regressor])"
   ]
  },
  {
   "cell_type": "code",
   "execution_count": 271,
   "id": "1ed36b41",
   "metadata": {},
   "outputs": [],
   "source": [
    "from pyspark.ml.tuning import ParamGridBuilder\n",
    "paramGrid = ParamGridBuilder().addGrid(regressor.numTrees,[100,500]) .build()"
   ]
  },
  {
   "cell_type": "code",
   "execution_count": 272,
   "id": "aab26aa8",
   "metadata": {},
   "outputs": [],
   "source": [
    "from pyspark.ml.tuning import CrossValidator\n",
    "from pyspark.ml.evaluation import RegressionEvaluator\n",
    "crossval = CrossValidator(estimator = pipeline,\n",
    "                         estimatorParamMaps = paramGrid,\n",
    "                         evaluator = RegressionEvaluator(labelCol = \"Selling_Price\"),\n",
    "                         numFolds = 3)"
   ]
  },
  {
   "cell_type": "code",
   "execution_count": 273,
   "id": "3e734bf5",
   "metadata": {},
   "outputs": [],
   "source": [
    "train_data , test_data = data.randomSplit([0.8,0.2], seed = 123)"
   ]
  },
  {
   "cell_type": "code",
   "execution_count": 274,
   "id": "0c1f4b78",
   "metadata": {},
   "outputs": [
    {
     "data": {
      "text/plain": [
       "CrossValidatorModel_340105aa8cc3"
      ]
     },
     "execution_count": 274,
     "metadata": {},
     "output_type": "execute_result"
    }
   ],
   "source": [
    "cvModel = crossval.fit(train_data)\n",
    "cvModel"
   ]
  },
  {
   "cell_type": "code",
   "execution_count": 275,
   "id": "cc59d3fc",
   "metadata": {},
   "outputs": [
    {
     "name": "stdout",
     "output_type": "stream",
     "text": [
      "[VectorAssembler_29e13052012e, RandomForestRegressionModel: uid=RandomForestRegressor_e88dc5f9ea7a, numTrees=500, numFeatures=8]\n"
     ]
    }
   ],
   "source": [
    "bestModel = cvModel.bestModel\n",
    "print(bestModel.stages)"
   ]
  },
  {
   "cell_type": "code",
   "execution_count": 283,
   "id": "d917211b",
   "metadata": {},
   "outputs": [
    {
     "name": "stdout",
     "output_type": "stream",
     "text": [
      "+----+-------------+-------------+----------+-------------+-------------+-------------+-----+--------------------+------------------+\n",
      "|Year|Selling_Price|Present_Price|Kms_Driven|     Fueltype|    selletype| transmission|Owner|    Input Attributes|        prediction|\n",
      "+----+-------------+-------------+----------+-------------+-------------+-------------+-----+--------------------+------------------+\n",
      "|2004|          1.5|        12.35|    135154|(2,[0],[1.0])|(1,[0],[1.0])|    (1,[],[])|    0|[2004.0,12.35,135...| 4.590662033933393|\n",
      "|2005|         3.51|         13.7|     75000|(2,[0],[1.0])|(1,[0],[1.0])|(1,[0],[1.0])|    0|[2005.0,13.7,7500...|4.7398942567942735|\n",
      "|2007|          0.2|         0.75|     49000|(2,[0],[1.0])|    (1,[],[])|(1,[0],[1.0])|    1|[2007.0,0.75,4900...|0.3729526963895476|\n",
      "|2008|         0.17|         0.52|    500000|(2,[0],[1.0])|    (1,[],[])|    (1,[],[])|    0|(8,[0,1,2,3],[200...|0.5709209191492451|\n",
      "|2008|         1.95|         7.15|     58000|(2,[0],[1.0])|(1,[0],[1.0])|(1,[0],[1.0])|    0|[2008.0,7.15,5800...| 3.236577006359654|\n",
      "|2009|         3.35|         11.0|     87934|(2,[0],[1.0])|(1,[0],[1.0])|(1,[0],[1.0])|    0|[2009.0,11.0,8793...| 4.157422348211689|\n",
      "|2010|         0.45|         0.95|     27000|(2,[0],[1.0])|    (1,[],[])|(1,[0],[1.0])|    0|[2010.0,0.95,2700...|0.5033312676467897|\n",
      "|2010|         0.52|         0.94|     45000|(2,[0],[1.0])|    (1,[],[])|(1,[0],[1.0])|    0|[2010.0,0.94,4500...|0.5230109437260593|\n",
      "|2010|         2.65|         7.98|     41442|(2,[0],[1.0])|(1,[0],[1.0])|(1,[0],[1.0])|    0|[2010.0,7.98,4144...| 3.999238312732298|\n",
      "|2010|         3.25|         6.79|     58000|(2,[1],[1.0])|(1,[0],[1.0])|(1,[0],[1.0])|    1|[2010.0,6.79,5800...| 4.656002857308651|\n",
      "+----+-------------+-------------+----------+-------------+-------------+-------------+-----+--------------------+------------------+\n",
      "only showing top 10 rows\n",
      "\n"
     ]
    }
   ],
   "source": [
    "pred = cvModel.transform(test_data)\n",
    "pred.show(10)"
   ]
  },
  {
   "cell_type": "code",
   "execution_count": 286,
   "id": "bdb01bd0",
   "metadata": {},
   "outputs": [
    {
     "name": "stdout",
     "output_type": "stream",
     "text": [
      "root\n",
      " |-- Year: integer (nullable = true)\n",
      " |-- Selling_Price: double (nullable = true)\n",
      " |-- Present_Price: double (nullable = true)\n",
      " |-- Kms_Driven: integer (nullable = true)\n",
      " |-- Fueltype: vector (nullable = true)\n",
      " |-- selletype: vector (nullable = true)\n",
      " |-- transmission: vector (nullable = true)\n",
      " |-- Owner: integer (nullable = true)\n",
      " |-- Input Attributes: vector (nullable = true)\n",
      " |-- prediction: double (nullable = false)\n",
      "\n"
     ]
    }
   ],
   "source": [
    "pred.printSchema()"
   ]
  },
  {
   "cell_type": "code",
   "execution_count": 280,
   "id": "c7545c8d",
   "metadata": {},
   "outputs": [],
   "source": [
    "from pyspark.ml.evaluation import RegressionEvaluator\n",
    "eval = RegressionEvaluator(labelCol = 'Selling_Price')\n",
    "rmse = eval.evaluate(pred, {eval.metricName:'rmse'})\n",
    "mae = eval.evaluate(pred, {eval.metricName:\"mae\"})\n",
    "r2 =eval.evaluate(pred,{eval.metricName:'r2'})"
   ]
  },
  {
   "cell_type": "code",
   "execution_count": 281,
   "id": "d6e8473a",
   "metadata": {},
   "outputs": [
    {
     "name": "stdout",
     "output_type": "stream",
     "text": [
      "RMSE: 3.075\n",
      "MAE: 1.180\n",
      "R2: 0.711\n"
     ]
    }
   ],
   "source": [
    "print(\"RMSE: %.3f\" %rmse)\n",
    "print(\"MAE: %.3f\" %mae)\n",
    "print(\"R2: %.3f\" %r2)"
   ]
  },
  {
   "cell_type": "code",
   "execution_count": null,
   "id": "9cbe7c7e",
   "metadata": {},
   "outputs": [],
   "source": []
  }
 ],
 "metadata": {
  "kernelspec": {
   "display_name": "Python 3 (ipykernel)",
   "language": "python",
   "name": "python3"
  },
  "language_info": {
   "codemirror_mode": {
    "name": "ipython",
    "version": 3
   },
   "file_extension": ".py",
   "mimetype": "text/x-python",
   "name": "python",
   "nbconvert_exporter": "python",
   "pygments_lexer": "ipython3",
   "version": "3.10.5"
  }
 },
 "nbformat": 4,
 "nbformat_minor": 5
}
